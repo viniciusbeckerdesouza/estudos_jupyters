{
 "cells": [
  {
   "cell_type": "markdown",
   "metadata": {},
   "source": [
    "##### Olá mundo"
   ]
  },
  {
   "cell_type": "code",
   "execution_count": null,
   "metadata": {},
   "outputs": [],
   "source": [
    "print('Olá. mundo.')"
   ]
  },
  {
   "cell_type": "markdown",
   "metadata": {},
   "source": [
    "##### Faça um Programa que peça um número e então mostre a mensagem O número informado foi [número]."
   ]
  },
  {
   "cell_type": "code",
   "execution_count": null,
   "metadata": {},
   "outputs": [],
   "source": [
    "x = int(input('Digite um número: '))\n",
    "print('O número informado foi ', x)"
   ]
  },
  {
   "cell_type": "markdown",
   "metadata": {},
   "source": [
    "##### Faça um Programa que peça dois números e imprima a soma."
   ]
  },
  {
   "cell_type": "code",
   "execution_count": null,
   "metadata": {},
   "outputs": [],
   "source": [
    "x = int(input('Digite x: '))\n",
    "y = int(input('Digite y: '))\n",
    "print(x + y)"
   ]
  },
  {
   "cell_type": "markdown",
   "metadata": {},
   "source": [
    "##### Faça um Programa que peça as 4 notas bimestrais e mostre a média."
   ]
  },
  {
   "cell_type": "code",
   "execution_count": null,
   "metadata": {},
   "outputs": [],
   "source": [
    "nota1 = float(input('Nota 1º bimestre: '))\n",
    "nota2 = float(input('Nota 2º bimestre: '))\n",
    "nota3 = float(input('Nota 3º bimestre: '))\n",
    "nota4 = float(input('Nota 4º bimestre: '))\n",
    "media = (nota1 + nota2 + nota3 + nota4) / 4\n",
    "print('A média foi: ', media)"
   ]
  },
  {
   "cell_type": "markdown",
   "metadata": {},
   "source": [
    "##### Faça um Programa que converta metros para centímetros."
   ]
  },
  {
   "cell_type": "code",
   "execution_count": null,
   "metadata": {},
   "outputs": [],
   "source": [
    "metro = float(input('Digite o valor em metros: '))\n",
    "cm = metro * 100\n",
    "print('O valor em centímetros é: ', cm)"
   ]
  },
  {
   "cell_type": "markdown",
   "metadata": {},
   "source": [
    "##### Faça um Programa que peça o raio de um círculo, calcule e mostre sua área."
   ]
  },
  {
   "cell_type": "code",
   "execution_count": null,
   "metadata": {},
   "outputs": [],
   "source": [
    "import math\n",
    "r = float(input('Digite o raio do círculo: '))\n",
    "A = math.pi * r*r\n",
    "print('A área do círculo é ', A)"
   ]
  },
  {
   "cell_type": "markdown",
   "metadata": {},
   "source": [
    "##### Faça um Programa que calcule a área de um quadrado, em seguida mostre o dobro desta área para o usuário."
   ]
  },
  {
   "cell_type": "code",
   "execution_count": null,
   "metadata": {},
   "outputs": [],
   "source": [
    "lado = int(input('Digite o valor do lado do quadrado: '))\n",
    "A = lado * lado\n",
    "print(A * 2)"
   ]
  },
  {
   "cell_type": "markdown",
   "metadata": {},
   "source": [
    "##### Faça um Programa que pergunte quanto você ganha por hora e o número de horas trabalhadas no mês. Calcule e mostre o total do seu salário no referido mês."
   ]
  },
  {
   "cell_type": "code",
   "execution_count": null,
   "metadata": {},
   "outputs": [],
   "source": [
    "valor = float(input('Valor por hora: '))\n",
    "hora = int(input('Horas trabalhadas: '))\n",
    "print('O seu salário mensal é R$', valor * hora)"
   ]
  },
  {
   "cell_type": "markdown",
   "metadata": {},
   "source": [
    "##### Faça um Programa que peça a temperatura em graus Fahrenheit, transforme e mostre a temperatura em graus Celsius"
   ]
  },
  {
   "cell_type": "code",
   "execution_count": null,
   "metadata": {},
   "outputs": [],
   "source": [
    "F = int(input(\"Fahrenheit: \"))\n",
    "C = 5 * ((F-32) / 9)\n",
    "print(\"Celsius: \", C)"
   ]
  },
  {
   "cell_type": "markdown",
   "metadata": {},
   "source": [
    "##### Faça um Programa que peça a temperatura em graus Celsius, transforme e mostre em graus Fahrenheit."
   ]
  },
  {
   "cell_type": "code",
   "execution_count": null,
   "metadata": {},
   "outputs": [],
   "source": [
    "C = int(input(\"Celsius: \"))\n",
    "F = C * 9/5 + 32\n",
    "print(\"Fahrenheit: \", F)"
   ]
  },
  {
   "cell_type": "markdown",
   "metadata": {},
   "source": [
    "##### Faça um Programa que peça 2 números inteiros e um número real. Calcule e mostre"
   ]
  },
  {
   "cell_type": "code",
   "execution_count": null,
   "metadata": {},
   "outputs": [],
   "source": [
    "int1 = int(input('nº 1: '))\n",
    "int2 = int(input('nº 2: '))\n",
    "real = float(input('nº real: '))\n",
    "\n",
    "print((2 * int1) + (int2 / 2))\n",
    "print((3 * int1) + real)\n",
    "print(real**3)"
   ]
  },
  {
   "cell_type": "markdown",
   "metadata": {},
   "source": [
    "##### Tendo como dados de entrada a altura de uma pessoa, construa um algoritmo que calcule seu peso ideal"
   ]
  },
  {
   "cell_type": "code",
   "execution_count": null,
   "metadata": {},
   "outputs": [],
   "source": [
    "altura = float(input('Altura: '))\n",
    "sexo = input('Sexo: ')\n",
    "if sexo == 'm':\n",
    "    peso_ideal = int((72.7 * altura) - 58)\n",
    "elif sexo == 'f':\n",
    "    peso_ideal = int((62.1 * altura) - 44.7)\n",
    "else:\n",
    "    print('ERROR')\n",
    "    \n",
    "print(\"Seu peso ideal é: \", peso_ideal)"
   ]
  },
  {
   "cell_type": "markdown",
   "metadata": {},
   "source": [
    "#####  faça um programa que leia a variável peso (peso de peixes) e calcule o excesso. Gravar na variável excesso a quantidade de quilos além do limite e na variável multa o valor da multa"
   ]
  },
  {
   "cell_type": "code",
   "execution_count": null,
   "metadata": {},
   "outputs": [],
   "source": [
    "peso_max = 50\n",
    "multa_por_quilo = 4\n",
    "peso = float(input(\"Peso do peixe: \"))\n",
    "excedente = peso - peso_max\n",
    "if excedente > 0:\n",
    "    multa = excedente * multa_por_quilo\n",
    "    print(\"O valor da multa é R$\", multa)\n",
    "else:\n",
    "    print(\"Não há multa!\")"
   ]
  },
  {
   "cell_type": "markdown",
   "metadata": {},
   "source": [
    "##### Faça um Programa que pergunte quanto você ganha por hora e o número de horas trabalhadas no mês."
   ]
  },
  {
   "cell_type": "code",
   "execution_count": null,
   "metadata": {},
   "outputs": [],
   "source": [
    "salario_hora = float(input(\"Salário por hora: \"))\n",
    "hora_por_mes = int(input(\"Horas por mês: \"))\n",
    "salario_bruto = salario_hora * hora_por_mes\n",
    "ir = 0.11 * salario_bruto\n",
    "inss = 0.08 * salario_bruto\n",
    "sind = 0.05 * salario_bruto\n",
    "salario_liquido = salario_bruto - ir - inss - sind\n",
    "print(f\"+ Salário Bruto: R${salario_bruto:.2f}\")\n",
    "print(f\"- IR (11%): R${ir:.2f}\")\n",
    "print(f\"- INSS (8%): R${inss:.2f}\")\n",
    "print(f\"- Sindicato (5%): R${sind:.2f}\")\n",
    "print(f\"= Salário líquido: R${salario_liquido:.2f}\")"
   ]
  },
  {
   "cell_type": "markdown",
   "metadata": {},
   "source": [
    "##### Faça um programa para uma loja de tintas. O programa deverá pedir o tamanho em metros quadrados da área a ser pintada."
   ]
  },
  {
   "cell_type": "code",
   "execution_count": null,
   "metadata": {},
   "outputs": [],
   "source": [
    "import math\n",
    "area = int(input(\"Área (m²): \"))\n",
    "rendimento = area / 3\n",
    "print(rendimento)\n",
    "latas = math.ceil(rendimento / 18)\n",
    "print(latas)\n",
    "custo = latas * 80\n",
    "print(f\"Você vai precisar de {latas} latas e vai pagar R${custo:.2f}\")"
   ]
  },
  {
   "cell_type": "markdown",
   "metadata": {},
   "source": [
    "##### Faça um programa que peça o tamanho de um arquivo para download (em MB) e a velocidade de um link de Internet (em Mbps), calcule e informe o tempo aproximado de download do arquivo usando este link (em minutos)."
   ]
  },
  {
   "cell_type": "code",
   "execution_count": null,
   "metadata": {},
   "outputs": [],
   "source": [
    "file_size = float(input(\"Tamanho do arquivo (MB): \"))\n",
    "down_speed = float(input(\"Velocidade de download (Mbps): \"))\n",
    "down_time = file_size * down_speed / 60\n",
    "down_time"
   ]
  }
 ],
 "metadata": {
  "kernelspec": {
   "display_name": "Python 3",
   "language": "python",
   "name": "python3"
  },
  "language_info": {
   "codemirror_mode": {
    "name": "ipython",
    "version": 3
   },
   "file_extension": ".py",
   "mimetype": "text/x-python",
   "name": "python",
   "nbconvert_exporter": "python",
   "pygments_lexer": "ipython3",
   "version": "3.7.1"
  }
 },
 "nbformat": 4,
 "nbformat_minor": 4
}
