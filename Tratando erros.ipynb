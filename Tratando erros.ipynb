{
 "cells": [
  {
   "cell_type": "code",
   "execution_count": null,
   "metadata": {},
   "outputs": [],
   "source": [
    "try:\n",
    "    num1 = 7\n",
    "    num2 = 0\n",
    "    print(num1/num2)\n",
    "    print(\"Feito\")\n",
    "except ZeroDivisionError:\n",
    "    print('Um erro ocorreu')\n",
    "    print('Acho que não dá pra dividir por zero :(')"
   ]
  },
  {
   "cell_type": "code",
   "execution_count": null,
   "metadata": {},
   "outputs": [],
   "source": [
    "try:\n",
    "    num1 = 7\n",
    "    num2 = '1'\n",
    "    print(num1 / num2)\n",
    "except ZeroDivisionError:\n",
    "    print(1)\n",
    "except TypeError:\n",
    "    print(int(num1)/int(num2))\n",
    "\n"
   ]
  },
  {
   "cell_type": "code",
   "execution_count": null,
   "metadata": {},
   "outputs": [],
   "source": [
    "def divisao(x, y):\n",
    "    try:\n",
    "        print(f'{x} dividido por {y} é igual a {x / y}')\n",
    "    except ZeroDivisionError:\n",
    "        print(f'{x} dividido por {y} é igual a 1')\n",
    "    except TypeError:\n",
    "        result = int(num1)/int(num2)\n",
    "        print(f'{x} dividido por {y} é igual a {result}')\n",
    "    if y < 0:\n",
    "        raise ValueError('Divisão por número negativo')"
   ]
  },
  {
   "cell_type": "code",
   "execution_count": null,
   "metadata": {},
   "outputs": [],
   "source": [
    "divisao(2, 0)"
   ]
  },
  {
   "cell_type": "code",
   "execution_count": null,
   "metadata": {},
   "outputs": [],
   "source": [
    "divisao(3, 2)"
   ]
  },
  {
   "cell_type": "code",
   "execution_count": null,
   "metadata": {},
   "outputs": [],
   "source": [
    "divisao('70', 4)"
   ]
  },
  {
   "cell_type": "code",
   "execution_count": null,
   "metadata": {},
   "outputs": [],
   "source": [
    "divisao(3, -3)"
   ]
  },
  {
   "cell_type": "code",
   "execution_count": null,
   "metadata": {},
   "outputs": [],
   "source": []
  }
 ],
 "metadata": {
  "kernelspec": {
   "display_name": "Python 3",
   "language": "python",
   "name": "python3"
  },
  "language_info": {
   "codemirror_mode": {
    "name": "ipython",
    "version": 3
   },
   "file_extension": ".py",
   "mimetype": "text/x-python",
   "name": "python",
   "nbconvert_exporter": "python",
   "pygments_lexer": "ipython3",
   "version": "3.7.1"
  }
 },
 "nbformat": 4,
 "nbformat_minor": 4
}
