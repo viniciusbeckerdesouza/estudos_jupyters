{
 "cells": [
  {
   "cell_type": "code",
   "execution_count": null,
   "metadata": {
    "scrolled": true
   },
   "outputs": [],
   "source": [
    "library(tidyverse)"
   ]
  },
  {
   "cell_type": "code",
   "execution_count": null,
   "metadata": {},
   "outputs": [],
   "source": [
    "ggplot(data = diamonds) +\n",
    "  geom_bar(mapping = aes(x = cut))"
   ]
  },
  {
   "cell_type": "code",
   "execution_count": null,
   "metadata": {},
   "outputs": [],
   "source": [
    "diamonds %>% \n",
    "  count(cut)"
   ]
  },
  {
   "cell_type": "code",
   "execution_count": null,
   "metadata": {},
   "outputs": [],
   "source": [
    "ggplot(data = diamonds) +\n",
    "  geom_histogram(mapping = aes(x = carat), binwidth = 0.5)"
   ]
  },
  {
   "cell_type": "code",
   "execution_count": null,
   "metadata": {},
   "outputs": [],
   "source": [
    "diamonds %>% \n",
    "  count(cut_width(carat, 0.5))"
   ]
  },
  {
   "cell_type": "code",
   "execution_count": null,
   "metadata": {},
   "outputs": [],
   "source": [
    "smaller <- diamonds %>% \n",
    "  filter(carat < 3)\n",
    "  \n",
    "ggplot(data = smaller, mapping = aes(x = carat)) +\n",
    "  geom_histogram(binwidth = 0.1)"
   ]
  },
  {
   "cell_type": "code",
   "execution_count": null,
   "metadata": {},
   "outputs": [],
   "source": [
    "ggplot(data = smaller, mapping = aes(x = carat, colour = cut)) +\n",
    "  geom_freqpoly(binwidth = 0.1)"
   ]
  },
  {
   "cell_type": "code",
   "execution_count": null,
   "metadata": {},
   "outputs": [],
   "source": [
    "ggplot(data = smaller, mapping = aes(x = carat)) +\n",
    "  geom_histogram(binwidth = 0.01)"
   ]
  },
  {
   "cell_type": "code",
   "execution_count": null,
   "metadata": {},
   "outputs": [],
   "source": [
    "ggplot(diamonds) + \n",
    "  geom_histogram(mapping = aes(x = y), binwidth = 0.5)"
   ]
  },
  {
   "cell_type": "code",
   "execution_count": null,
   "metadata": {},
   "outputs": [],
   "source": [
    "ggplot(diamonds) + \n",
    "  geom_histogram(mapping = aes(x = y), binwidth = 0.5) +\n",
    "  coord_cartesian(ylim = c(0, 50))"
   ]
  },
  {
   "cell_type": "code",
   "execution_count": null,
   "metadata": {},
   "outputs": [],
   "source": [
    "unusual <- diamonds %>% \n",
    "  filter(y < 3 | y > 20) %>% \n",
    "  select(price, x, y, z) %>%\n",
    "  arrange(y)\n",
    "unusual"
   ]
  },
  {
   "cell_type": "code",
   "execution_count": null,
   "metadata": {},
   "outputs": [],
   "source": [
    "ggplot(diamonds) + \n",
    "    geom_histogram(mapping = aes(z), binwidth = 0.5)\n",
    "ggplot(diamonds) + \n",
    "    geom_histogram(mapping = aes(x), binwidth = 0.5)\n",
    "ggplot(diamonds) + \n",
    "    geom_histogram(mapping = aes(y), binwidth = 0.5)"
   ]
  },
  {
   "cell_type": "code",
   "execution_count": null,
   "metadata": {},
   "outputs": [],
   "source": [
    "ggplot(diamonds) + \n",
    "    geom_histogram(mapping = aes(price), binwidth = 0.5)"
   ]
  },
  {
   "cell_type": "code",
   "execution_count": null,
   "metadata": {},
   "outputs": [],
   "source": [
    "ggplot(diamonds) + \n",
    "    geom_histogram(mapping = aes(price), binwidth = 0.1)"
   ]
  },
  {
   "cell_type": "code",
   "execution_count": null,
   "metadata": {},
   "outputs": [],
   "source": [
    "ggplot(diamonds) + \n",
    "    geom_histogram(mapping = aes(price), binwidth = 0.9)"
   ]
  },
  {
   "cell_type": "code",
   "execution_count": null,
   "metadata": {},
   "outputs": [],
   "source": [
    "x <- diamonds %>% \n",
    "  filter(carat == 1)"
   ]
  },
  {
   "cell_type": "code",
   "execution_count": null,
   "metadata": {},
   "outputs": [],
   "source": [
    "count(x)"
   ]
  },
  {
   "cell_type": "code",
   "execution_count": null,
   "metadata": {},
   "outputs": [],
   "source": [
    "y <- diamonds %>% \n",
    "  filter(carat == 0.99)"
   ]
  },
  {
   "cell_type": "code",
   "execution_count": null,
   "metadata": {},
   "outputs": [],
   "source": [
    "count(y)"
   ]
  },
  {
   "cell_type": "code",
   "execution_count": null,
   "metadata": {},
   "outputs": [],
   "source": [
    "diamonds2 <- diamonds %>% \n",
    "  filter(between(y, 3, 20))"
   ]
  },
  {
   "cell_type": "code",
   "execution_count": null,
   "metadata": {},
   "outputs": [],
   "source": [
    "ggplot(diamonds2) + \n",
    "  geom_histogram(mapping = aes(x = y), binwidth = 0.2) +\n",
    "  coord_cartesian(ylim = c(0, 50))"
   ]
  },
  {
   "cell_type": "code",
   "execution_count": null,
   "metadata": {},
   "outputs": [],
   "source": [
    "diamonds2 <- diamonds %>% \n",
    "  mutate(y = ifelse(y < 3 | y > 20, NA, y))"
   ]
  },
  {
   "cell_type": "code",
   "execution_count": null,
   "metadata": {},
   "outputs": [],
   "source": [
    "diamonds3 <- diamonds %>% \n",
    "  mutate(y = ifelse(y > 3 | y < 20, NA, y))"
   ]
  },
  {
   "cell_type": "code",
   "execution_count": null,
   "metadata": {},
   "outputs": [],
   "source": [
    "ggplot(diamonds2) + \n",
    "  geom_histogram(mapping = aes(x = y), binwidth = 0.2) +\n",
    "  coord_cartesian(ylim = c(0, 50))"
   ]
  },
  {
   "cell_type": "code",
   "execution_count": null,
   "metadata": {},
   "outputs": [],
   "source": [
    "ggplot(data = diamonds3, mapping = aes(x = x, y = y)) + \n",
    "  geom_point()\n",
    "ggplot(data = diamonds2, mapping = aes(x = x, y = y)) + \n",
    "  geom_point()\n",
    "ggplot(data = diamonds, mapping = aes(x = x, y = y)) + \n",
    "  geom_point()"
   ]
  },
  {
   "cell_type": "code",
   "execution_count": null,
   "metadata": {},
   "outputs": [],
   "source": [
    "nycflights13::flights %>% \n",
    "  mutate(\n",
    "    cancelled = is.na(dep_time),\n",
    "    sched_hour = sched_dep_time %/% 100,\n",
    "    sched_min = sched_dep_time %% 100,\n",
    "    sched_dep_time = sched_hour + sched_min / 60\n",
    "  ) %>% \n",
    "  ggplot(mapping = aes(sched_dep_time)) + \n",
    "    geom_freqpoly(mapping = aes(colour = cancelled), binwidth = 1/4)"
   ]
  },
  {
   "cell_type": "code",
   "execution_count": null,
   "metadata": {},
   "outputs": [],
   "source": [
    "ggplot(diamonds2) + \n",
    "  geom_histogram(mapping = aes(x = y), binwidth = 0.2)"
   ]
  },
  {
   "cell_type": "code",
   "execution_count": null,
   "metadata": {},
   "outputs": [],
   "source": [
    "ggplot(diamonds2) + \n",
    "  geom_bar(mapping = aes(x = y), binwidth = 0.2)"
   ]
  },
  {
   "cell_type": "code",
   "execution_count": null,
   "metadata": {},
   "outputs": [],
   "source": [
    "mean(diamonds2, na.rm = TRUE)"
   ]
  },
  {
   "cell_type": "code",
   "execution_count": null,
   "metadata": {},
   "outputs": [],
   "source": []
  }
 ],
 "metadata": {
  "kernelspec": {
   "display_name": "R",
   "language": "R",
   "name": "ir"
  },
  "language_info": {
   "codemirror_mode": "r",
   "file_extension": ".r",
   "mimetype": "text/x-r-source",
   "name": "R",
   "pygments_lexer": "r",
   "version": "3.6.1"
  }
 },
 "nbformat": 4,
 "nbformat_minor": 4
}
