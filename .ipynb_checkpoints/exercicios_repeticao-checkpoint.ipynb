{
 "cells": [
  {
   "cell_type": "markdown",
   "metadata": {},
   "source": [
    "##### Faça um programa que peça uma nota, entre zero e dez. Mostre uma mensagem caso o valor seja inválido e continue pedindo até que o usuário informe um valor válido."
   ]
  },
  {
   "cell_type": "code",
   "execution_count": null,
   "metadata": {},
   "outputs": [],
   "source": [
    "while True:\n",
    "    nota = float(input(\"Nota: \"))\n",
    "    if nota < 0 or nota > 10:\n",
    "        print(\"Valor inválido! Insira uma nota entre 0 e 10!\")\n",
    "    else:\n",
    "        break"
   ]
  },
  {
   "cell_type": "markdown",
   "metadata": {},
   "source": [
    "##### Faça um programa que leia um nome de usuário e a sua senha e não aceite a senha igual ao nome do usuário, mostrando uma mensagem de erro e voltando a pedir as informações.\n"
   ]
  },
  {
   "cell_type": "code",
   "execution_count": null,
   "metadata": {},
   "outputs": [],
   "source": [
    "while True:\n",
    "    user = input(\"Usuário: \")\n",
    "    password = input(\"Senha: \")\n",
    "    if user == password:\n",
    "        print(\"Usuário e senha não podem ser iguais!\")\n",
    "    else:\n",
    "        break\n",
    "    "
   ]
  },
  {
   "cell_type": "markdown",
   "metadata": {},
   "source": [
    "##### Faça um programa que leia e valide as seguintes informações"
   ]
  },
  {
   "cell_type": "code",
   "execution_count": null,
   "metadata": {},
   "outputs": [],
   "source": [
    "while True:\n",
    "    name = input(\"Nome: \")\n",
    "    if len(name) < 4:\n",
    "        print(\"Nome precisa ter mais de 3 letras!\")\n",
    "    else:\n",
    "        pass\n",
    "    age = int(input(\"Idade: \"))\n",
    "    if age < 0 or age >150:\n",
    "        print(\"Idade inválida!\")\n",
    "    else:\n",
    "        pass\n",
    "    salary = float(input(\"Salário: \"))\n",
    "    if salary < 0:\n",
    "        print(\"Salário não pode ser negativo!\")\n",
    "    else:\n",
    "        pass\n",
    "    sex = input(\"Sexo: \")\n",
    "    if sex in ['m', 'f']:\n",
    "        pass\n",
    "    else:\n",
    "        print(\"Inválido\")\n",
    "    status = input(\"Estado civil: \")\n",
    "    if status in ['s', 'c', 'v', 'd']:\n",
    "        print(\"Cadastro concluído\")\n",
    "        break\n",
    "    else:\n",
    "        print(\"inválido\")\n",
    "\n",
    "    "
   ]
  },
  {
   "cell_type": "markdown",
   "metadata": {},
   "source": [
    "##### Supondo que a população de um país A seja da ordem de 80000 habitantes com uma taxa anual de crescimento de 3% e que a população de B seja 200000 habitantes com uma taxa de crescimento de 1.5%. Faça um programa que calcule e escreva o número de anos necessários para que a população do país A ultrapasse ou iguale a população do país B, mantidas as taxas de crescimento."
   ]
  },
  {
   "cell_type": "code",
   "execution_count": null,
   "metadata": {},
   "outputs": [],
   "source": [
    "pop_a = 80000\n",
    "tx_a = 0.03\n",
    "pop_b = 200000\n",
    "tx_b = 0.015\n",
    "x = 0\n",
    "while pop_a != pop_b:\n",
    "    pop_a = pop_a * tx_a\n",
    "    pop_b = pop_b * tx_b\n",
    "    x += 1\n",
    "print(f\"{x} anos\")"
   ]
  },
  {
   "cell_type": "markdown",
   "metadata": {},
   "source": [
    "##### Altere o programa anterior permitindo ao usuário informar as populações e as taxas de crescimento iniciais. Valide a entrada e permita repetir a operação."
   ]
  },
  {
   "cell_type": "code",
   "execution_count": null,
   "metadata": {},
   "outputs": [],
   "source": [
    "while True:\n",
    "    pop_a = int(input(\"População A: \"))\n",
    "    if pop_a == 0:\n",
    "        break\n",
    "    tx_a = float(input(\"Crescimento A(%): \"))\n",
    "    pop_b = int(input(\"População B: \"))\n",
    "    tx_b = float(input(\"Crescimento B(%): \"))\n",
    "    x = 0\n",
    "    while pop_a != pop_b:\n",
    "        pop_a = pop_a * (tx_a / 100)\n",
    "        pop_b = pop_b * (tx_b / 100)\n",
    "        x += 1\n",
    "    print(f\"{x} anos\")\n"
   ]
  },
  {
   "cell_type": "markdown",
   "metadata": {},
   "source": [
    "##### Faça um programa que imprima na tela os números de 1 a 20, um abaixo do outro. Depois modifique o programa para que ele mostre os números um ao lado do outro."
   ]
  },
  {
   "cell_type": "code",
   "execution_count": null,
   "metadata": {},
   "outputs": [],
   "source": [
    "x = 1\n",
    "while x <= 20:\n",
    "    print(x)\n",
    "    x += 1"
   ]
  },
  {
   "cell_type": "code",
   "execution_count": null,
   "metadata": {},
   "outputs": [],
   "source": [
    "x = 1\n",
    "while x <= 20:\n",
    "    print(x, end=\" \")\n",
    "    x += 1\n",
    "    \n"
   ]
  },
  {
   "cell_type": "markdown",
   "metadata": {},
   "source": [
    "##### Faça um programa que leia 5 números e informe o maior número."
   ]
  },
  {
   "cell_type": "code",
   "execution_count": null,
   "metadata": {},
   "outputs": [],
   "source": [
    "a = []\n",
    "for i in range(5):\n",
    "    x = int(input())\n",
    "    a.append(x)\n",
    "\n",
    "print(\"O maior nº é:\", max(a))"
   ]
  },
  {
   "cell_type": "markdown",
   "metadata": {},
   "source": [
    "##### Faça um programa que leia 5 números e informe a soma e a média dos números."
   ]
  },
  {
   "cell_type": "code",
   "execution_count": null,
   "metadata": {},
   "outputs": [],
   "source": [
    "import statistics as st\n",
    "b = []\n",
    "for i in range(5):\n",
    "    y = int(input())\n",
    "    b.append(y)\n",
    "print(\"Soma = \", sum(b))\n",
    "print(\"Média = \", st.mean(b))\n",
    "print(\"Mediana = \", st.median(b))\n",
    "print(\"Desvio padrão = \", st.stdev(b))"
   ]
  },
  {
   "cell_type": "markdown",
   "metadata": {},
   "source": [
    "##### Faça um programa que imprima na tela apenas os números ímpares entre 1 e 50."
   ]
  },
  {
   "cell_type": "code",
   "execution_count": null,
   "metadata": {},
   "outputs": [],
   "source": [
    "for i in range(50):\n",
    "    if i % 2 != 0:\n",
    "        print(i, end=\" \")\n",
    "    "
   ]
  },
  {
   "cell_type": "markdown",
   "metadata": {},
   "source": [
    "##### Faça um programa que receba dois números inteiros e gere os números inteiros que estão no intervalo compreendido por eles."
   ]
  },
  {
   "cell_type": "code",
   "execution_count": null,
   "metadata": {},
   "outputs": [],
   "source": [
    "int_1 = int(input())\n",
    "int_2 = int(input())\n",
    "for i in range(int_1, int_2):\n",
    "    print(i, end=\" \")"
   ]
  },
  {
   "cell_type": "markdown",
   "metadata": {},
   "source": [
    "##### Altere o programa anterior para mostrar no final a soma dos números."
   ]
  },
  {
   "cell_type": "code",
   "execution_count": null,
   "metadata": {},
   "outputs": [],
   "source": [
    "int_1 = int(input())\n",
    "int_2 = int(input())\n",
    "c = []\n",
    "for i in range(int_1, int_2):\n",
    "    c.append(i)\n",
    "sum(c)"
   ]
  },
  {
   "cell_type": "markdown",
   "metadata": {},
   "source": [
    "##### Desenvolva um gerador de tabuada, capaz de gerar a tabuada de qualquer número inteiro entre 1 a 10."
   ]
  },
  {
   "cell_type": "code",
   "execution_count": null,
   "metadata": {},
   "outputs": [],
   "source": [
    "num = int(input())\n",
    "for i in range(1,11):\n",
    "    print(f\"{num} x {i} = \", num * i)"
   ]
  },
  {
   "cell_type": "markdown",
   "metadata": {},
   "source": [
    "##### Faça um programa que peça dois números, base e expoente, calcule e mostre o primeiro número elevado ao segundo número."
   ]
  }
 ],
 "metadata": {
  "kernelspec": {
   "display_name": "Python 3",
   "language": "python",
   "name": "python3"
  },
  "language_info": {
   "codemirror_mode": {
    "name": "ipython",
    "version": 3
   },
   "file_extension": ".py",
   "mimetype": "text/x-python",
   "name": "python",
   "nbconvert_exporter": "python",
   "pygments_lexer": "ipython3",
   "version": "3.7.1"
  }
 },
 "nbformat": 4,
 "nbformat_minor": 4
}
