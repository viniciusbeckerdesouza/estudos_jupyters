{
 "cells": [
  {
   "cell_type": "markdown",
   "metadata": {},
   "source": [
    "#### Tibbles"
   ]
  },
  {
   "cell_type": "code",
   "execution_count": null,
   "metadata": {},
   "outputs": [],
   "source": [
    "library(tidyverse)"
   ]
  },
  {
   "cell_type": "code",
   "execution_count": null,
   "metadata": {},
   "outputs": [],
   "source": [
    "# Abrindo dataframes como tibbles\n",
    "\n",
    "as_tibble(iris)"
   ]
  },
  {
   "cell_type": "code",
   "execution_count": null,
   "metadata": {},
   "outputs": [],
   "source": [
    "# criando um tibble\n",
    "\n",
    "tibble(\n",
    "  x = 1:5,\n",
    "  y = 1,\n",
    "  z = x^2+y\n",
    ")"
   ]
  },
  {
   "cell_type": "code",
   "execution_count": null,
   "metadata": {},
   "outputs": [],
   "source": [
    "tb <- tibble(\n",
    "  `:)` = \"smile\", \n",
    "  ` ` = \"space\",\n",
    "  `2000` = \"number\"\n",
    ")"
   ]
  },
  {
   "cell_type": "code",
   "execution_count": null,
   "metadata": {},
   "outputs": [],
   "source": [
    "tb"
   ]
  },
  {
   "cell_type": "code",
   "execution_count": null,
   "metadata": {},
   "outputs": [],
   "source": [
    "tb <- tibble(\n",
    "  `:)` = \"happy\", \n",
    "  `:(` = \"sad\",\n",
    "  `:*` = \"kiss\"\n",
    ")"
   ]
  },
  {
   "cell_type": "code",
   "execution_count": null,
   "metadata": {},
   "outputs": [],
   "source": [
    "tb"
   ]
  },
  {
   "cell_type": "code",
   "execution_count": null,
   "metadata": {},
   "outputs": [],
   "source": [
    "# transposição de tibble\n",
    "\n",
    "tribble(\n",
    "  ~x, ~y, ~z,\n",
    "  #--|--|----\n",
    "  \"a\", 2, 3.6,\n",
    "  \"b\", 1, 8.5\n",
    ")"
   ]
  },
  {
   "cell_type": "code",
   "execution_count": null,
   "metadata": {},
   "outputs": [],
   "source": [
    "tribble(\n",
    "  ~agua, ~cafe, ~cha,\n",
    "  #--|--|----\n",
    "  80, 2, 3.6,\n",
    "  70.7, 1, 8.5\n",
    ")"
   ]
  },
  {
   "cell_type": "markdown",
   "metadata": {},
   "source": [
    "Print"
   ]
  },
  {
   "cell_type": "code",
   "execution_count": null,
   "metadata": {},
   "outputs": [],
   "source": [
    "tibble(\n",
    "  a = lubridate::now() + runif(1e3) * 86400,\n",
    "  b = lubridate::today() + runif(1e3) * 30,\n",
    "  c = 1:1e3,\n",
    "  d = runif(1e3),\n",
    "  e = sample(letters, 1e3, replace = TRUE)\n",
    ")\n"
   ]
  },
  {
   "cell_type": "code",
   "execution_count": null,
   "metadata": {},
   "outputs": [],
   "source": [
    "nycflights13::flights %>% \n",
    "  print(n = 10, width = Inf)"
   ]
  },
  {
   "cell_type": "markdown",
   "metadata": {},
   "source": [
    "Subsetting"
   ]
  },
  {
   "cell_type": "code",
   "execution_count": null,
   "metadata": {},
   "outputs": [],
   "source": [
    "df <- tibble(\n",
    "  x = runif(5),\n",
    "  y = rnorm(5)\n",
    ")\n",
    "\n",
    "# Extract by name\n",
    "df$x\n",
    "#> [1] 0.73296674 0.23436542 0.66035540 0.03285612 0.46049161\n",
    "df[[\"x\"]]\n",
    "#> [1] 0.73296674 0.23436542 0.66035540 0.03285612 0.46049161\n",
    "\n",
    "# Extract by position\n",
    "df[[1]]\n",
    "#> [1] 0.73296674 0.23436542 0.66035540 0.03285612 0.46049161"
   ]
  },
  {
   "cell_type": "code",
   "execution_count": null,
   "metadata": {},
   "outputs": [],
   "source": [
    "df %>% .$x\n",
    "#> [1] 0.73296674 0.23436542 0.66035540 0.03285612 0.46049161\n",
    "df %>% .[[\"x\"]]\n",
    "#> [1] 0.73296674 0.23436542 0.66035540 0.03285612 0.46049161"
   ]
  },
  {
   "cell_type": "markdown",
   "metadata": {},
   "source": [
    "How can you tell if an object is a tibble? (Hint: try printing mtcars, which is a regular data frame)."
   ]
  },
  {
   "cell_type": "code",
   "execution_count": null,
   "metadata": {},
   "outputs": [],
   "source": [
    "print(mtcars)"
   ]
  },
  {
   "cell_type": "code",
   "execution_count": null,
   "metadata": {},
   "outputs": [],
   "source": [
    "m = as_tibble(mtcars)"
   ]
  },
  {
   "cell_type": "code",
   "execution_count": null,
   "metadata": {},
   "outputs": [],
   "source": [
    "print(m)"
   ]
  },
  {
   "cell_type": "markdown",
   "metadata": {},
   "source": [
    "Compare and contrast the following operations on a data.frame and equivalent tibble. What is different? Why might the default data frame behaviours cause you frustration?"
   ]
  },
  {
   "cell_type": "code",
   "execution_count": null,
   "metadata": {},
   "outputs": [],
   "source": [
    "df <- data.frame(abc = 1, xyz = \"a\")\n",
    "df$x\n",
    "df[, \"xyz\"]\n",
    "df[, c(\"abc\", \"xyz\")]"
   ]
  },
  {
   "cell_type": "code",
   "execution_count": null,
   "metadata": {},
   "outputs": [],
   "source": [
    "tb <- tibble(abc = 1, xyz = \"a\")\n",
    "\n",
    "tb[, \"xyz\"]\n",
    "tb[, c(\"abc\", \"xyz\")]"
   ]
  },
  {
   "cell_type": "markdown",
   "metadata": {},
   "source": [
    "If you have the name of a variable stored in an object, e.g. var <- \"mpg\", how can you extract the reference variable from a tibble?"
   ]
  },
  {
   "cell_type": "code",
   "execution_count": null,
   "metadata": {},
   "outputs": [],
   "source": [
    "var <- \"mpg\""
   ]
  },
  {
   "cell_type": "code",
   "execution_count": null,
   "metadata": {},
   "outputs": [],
   "source": [
    "var"
   ]
  },
  {
   "cell_type": "markdown",
   "metadata": {},
   "source": [
    "Practice referring to non-syntactic names in the following data frame"
   ]
  },
  {
   "cell_type": "code",
   "execution_count": null,
   "metadata": {},
   "outputs": [],
   "source": [
    "annoying <- tibble(\n",
    "  `1` = 1:10,\n",
    "  `2` = `1` * 2 + rnorm(length(`1`))\n",
    ")"
   ]
  },
  {
   "cell_type": "code",
   "execution_count": null,
   "metadata": {},
   "outputs": [],
   "source": [
    "annoying$`1`"
   ]
  },
  {
   "cell_type": "code",
   "execution_count": null,
   "metadata": {},
   "outputs": [],
   "source": [
    "ggplot(data = annoying, mapping = aes(x = `1`, y = `2`)) +\n",
    "  geom_point()"
   ]
  },
  {
   "cell_type": "code",
   "execution_count": null,
   "metadata": {},
   "outputs": [],
   "source": [
    "annoying$`3` = annoying$`2` / annoying$`1`"
   ]
  },
  {
   "cell_type": "code",
   "execution_count": null,
   "metadata": {},
   "outputs": [],
   "source": [
    "annoying"
   ]
  },
  {
   "cell_type": "markdown",
   "metadata": {},
   "source": [
    "What does tibble::enframe() do? When might you use it?"
   ]
  },
  {
   "cell_type": "code",
   "execution_count": null,
   "metadata": {},
   "outputs": [],
   "source": [
    "?tibble::enframe()"
   ]
  },
  {
   "cell_type": "code",
   "execution_count": null,
   "metadata": {},
   "outputs": [],
   "source": [
    "tb <- tibble(\n",
    "  1\n",
    ")\n",
    "tibble::enframe(tb)"
   ]
  },
  {
   "cell_type": "markdown",
   "metadata": {},
   "source": [
    "What option controls how many additional column names are printed at the footer of a tibble?"
   ]
  },
  {
   "cell_type": "code",
   "execution_count": null,
   "metadata": {},
   "outputs": [],
   "source": [
    "#não sei"
   ]
  },
  {
   "cell_type": "markdown",
   "metadata": {},
   "source": [
    "#### Data import"
   ]
  },
  {
   "cell_type": "code",
   "execution_count": null,
   "metadata": {},
   "outputs": [],
   "source": [
    "tb <- read_csv(\"a,b,c\n",
    "1,2,3\n",
    "4,5,6\")"
   ]
  },
  {
   "cell_type": "code",
   "execution_count": null,
   "metadata": {},
   "outputs": [],
   "source": [
    "tb"
   ]
  },
  {
   "cell_type": "code",
   "execution_count": null,
   "metadata": {},
   "outputs": [],
   "source": [
    "orelhao <- read_csv(\"TUP.csv\")"
   ]
  },
  {
   "cell_type": "code",
   "execution_count": null,
   "metadata": {},
   "outputs": [],
   "source": [
    "orelhao"
   ]
  },
  {
   "cell_type": "markdown",
   "metadata": {},
   "source": [
    "##### What function would you use to read a file where fields were separated with “|”?"
   ]
  },
  {
   "cell_type": "code",
   "execution_count": null,
   "metadata": {
    "scrolled": true
   },
   "outputs": [],
   "source": [
    "read_delim(\"um.csv\", \"|\")"
   ]
  },
  {
   "cell_type": "markdown",
   "metadata": {},
   "source": [
    "##### Apart from file, skip, and comment, what other arguments do read_csv() and read_tsv() have in common?"
   ]
  },
  {
   "cell_type": "markdown",
   "metadata": {},
   "source": [
    "read_csv2(file, col_names = TRUE, col_types = NULL,\n",
    "  locale = default_locale(), na = c(\"\", \"NA\"), quoted_na = TRUE,\n",
    "  quote = \"\\\"\", comment = \"\", trim_ws = TRUE, skip = 0,\n",
    "  n_max = Inf, guess_max = min(1000, n_max),\n",
    "  progress = show_progress(), skip_empty_rows = TRUE)\n",
    "\n",
    "read_tsv(file, col_names = TRUE, col_types = NULL,\n",
    "  locale = default_locale(), na = c(\"\", \"NA\"), quoted_na = TRUE,\n",
    "  quote = \"\\\"\", comment = \"\", trim_ws = TRUE, skip = 0,\n",
    "  n_max = Inf, guess_max = min(1000, n_max),\n",
    "  progress = show_progress(), skip_empty_rows = TRUE)"
   ]
  },
  {
   "cell_type": "markdown",
   "metadata": {},
   "source": [
    "##### What are the most important arguments to read_fwf()?"
   ]
  },
  {
   "cell_type": "markdown",
   "metadata": {},
   "source": [
    "col_positions"
   ]
  },
  {
   "cell_type": "markdown",
   "metadata": {},
   "source": [
    "##### Sometimes strings in a CSV file contain commas. To prevent them from causing problems they need to be surrounded by a quoting character, like \" or '. By default, read_csv() assumes that the quoting character will be \". What argument to read_csv() do you need to specify to read the following text into a data frame?"
   ]
  },
  {
   "cell_type": "code",
   "execution_count": null,
   "metadata": {},
   "outputs": [],
   "source": [
    "read_csv(\"x,y\\n1,'a,b'\")"
   ]
  },
  {
   "cell_type": "code",
   "execution_count": null,
   "metadata": {},
   "outputs": [],
   "source": [
    "read_csv(\"x,y\\n1,'a,b'\", quote=\"''\")"
   ]
  },
  {
   "cell_type": "markdown",
   "metadata": {},
   "source": [
    "Identify what is wrong with each of the following inline CSV files. What happens when you run the code?"
   ]
  },
  {
   "cell_type": "code",
   "execution_count": null,
   "metadata": {},
   "outputs": [],
   "source": [
    "read_csv(\"a,b\\n1,2,3\\n4,5,6\")"
   ]
  },
  {
   "cell_type": "code",
   "execution_count": null,
   "metadata": {},
   "outputs": [],
   "source": [
    "read_csv(\"a,b,c\\n1,2,3\\n4,5,6\")"
   ]
  },
  {
   "cell_type": "code",
   "execution_count": null,
   "metadata": {},
   "outputs": [],
   "source": [
    "read_csv(\"a,b,c\\n1,2\\n1,2,3,4\")"
   ]
  },
  {
   "cell_type": "code",
   "execution_count": null,
   "metadata": {},
   "outputs": [],
   "source": [
    "read_csv(\"a,b,c\\n1,2\\n1,2,'3,4'\", quote=\"''\")"
   ]
  },
  {
   "cell_type": "code",
   "execution_count": null,
   "metadata": {},
   "outputs": [],
   "source": [
    "read_csv(\"a,b\\n\\\"1\")"
   ]
  },
  {
   "cell_type": "code",
   "execution_count": null,
   "metadata": {},
   "outputs": [],
   "source": [
    "read_csv(\"a,b\\n\\1,2\")"
   ]
  },
  {
   "cell_type": "code",
   "execution_count": null,
   "metadata": {},
   "outputs": [],
   "source": [
    "read_csv(\"a,b\\n1,2\\na,b\")"
   ]
  },
  {
   "cell_type": "code",
   "execution_count": null,
   "metadata": {},
   "outputs": [],
   "source": [
    "read_csv2(\"a;b\\n1;3\")"
   ]
  },
  {
   "cell_type": "markdown",
   "metadata": {},
   "source": [
    "#### parse"
   ]
  },
  {
   "cell_type": "code",
   "execution_count": null,
   "metadata": {},
   "outputs": [],
   "source": [
    "str(parse_logical(c(\"TRUE\", \"FALSE\", \"NA\")))\n",
    "#>  logi [1:3] TRUE FALSE NA\n",
    "str(parse_integer(c(\"1\", \"2\", \"3\")))\n",
    "#>  int [1:3] 1 2 3\n",
    "str(parse_date(c(\"2010-01-01\", \"1979-10-14\")))\n",
    "#>  Date[1:2], format: \"2010-01-01\" \"1979-10-14\""
   ]
  },
  {
   "cell_type": "code",
   "execution_count": null,
   "metadata": {},
   "outputs": [],
   "source": [
    "x <- parse_integer(c(\"123\", \"345\", \"abc\", \"123.45\"))"
   ]
  },
  {
   "cell_type": "code",
   "execution_count": null,
   "metadata": {},
   "outputs": [],
   "source": [
    "x"
   ]
  },
  {
   "cell_type": "code",
   "execution_count": null,
   "metadata": {},
   "outputs": [],
   "source": [
    "problems(x)"
   ]
  },
  {
   "cell_type": "code",
   "execution_count": null,
   "metadata": {},
   "outputs": [],
   "source": [
    "parse_double(\"1.23\")\n",
    "#> [1] 1.23\n",
    "parse_double(\"1,23\", locale = locale(decimal_mark = \",\"))\n",
    "#> [1] 1.23"
   ]
  },
  {
   "cell_type": "code",
   "execution_count": null,
   "metadata": {},
   "outputs": [],
   "source": [
    "x <- \"4,56\""
   ]
  },
  {
   "cell_type": "code",
   "execution_count": null,
   "metadata": {},
   "outputs": [],
   "source": [
    "y <- parse_double(x, locale = locale(decimal_mark = \",\"))"
   ]
  },
  {
   "cell_type": "code",
   "execution_count": null,
   "metadata": {},
   "outputs": [],
   "source": [
    "x"
   ]
  },
  {
   "cell_type": "code",
   "execution_count": null,
   "metadata": {},
   "outputs": [],
   "source": [
    "y"
   ]
  },
  {
   "cell_type": "code",
   "execution_count": null,
   "metadata": {},
   "outputs": [],
   "source": [
    "x == y"
   ]
  },
  {
   "cell_type": "code",
   "execution_count": null,
   "metadata": {},
   "outputs": [],
   "source": [
    "salario <- \"R$3289.56\""
   ]
  },
  {
   "cell_type": "code",
   "execution_count": null,
   "metadata": {},
   "outputs": [],
   "source": [
    "parse_number(salario)"
   ]
  },
  {
   "cell_type": "code",
   "execution_count": null,
   "metadata": {},
   "outputs": [],
   "source": [
    "desconto <- \"20%\""
   ]
  },
  {
   "cell_type": "code",
   "execution_count": null,
   "metadata": {},
   "outputs": [],
   "source": [
    "parse_number(desconto)"
   ]
  },
  {
   "cell_type": "code",
   "execution_count": null,
   "metadata": {},
   "outputs": [],
   "source": [
    "cpf <- \"455.678.779.32\""
   ]
  },
  {
   "cell_type": "code",
   "execution_count": null,
   "metadata": {},
   "outputs": [],
   "source": [
    "parse_number(cpf, locale = locale(grouping_mark = (\".\")))"
   ]
  },
  {
   "cell_type": "code",
   "execution_count": null,
   "metadata": {},
   "outputs": [],
   "source": [
    "charToRaw(\"Vinícius\")"
   ]
  },
  {
   "cell_type": "code",
   "execution_count": null,
   "metadata": {},
   "outputs": [],
   "source": [
    "x1 <- \"El Ni\\xf1o was particularly bad this year\"\n",
    "x2 <- \"\\x82\\xb1\\x82\\xf1\\x82\\xc9\\x82\\xbf\\x82\\xcd\"\n",
    "\n",
    "x1\n",
    "#> [1] \"El Ni\\xf1o was particularly bad this year\"\n",
    "x2\n",
    "#> [1] \"\\x82\\xb1\\x82\\xf1\\x82\\u0242\\xbf\\x82\\xcd\""
   ]
  },
  {
   "cell_type": "code",
   "execution_count": null,
   "metadata": {},
   "outputs": [],
   "source": [
    "parse_character(x1, locale = locale(encoding = \"Latin1\"))\n",
    "#> [1] \"El Niño was particularly bad this year\"\n",
    "parse_character(x2, locale = locale(encoding = \"Shift-JIS\"))\n",
    "#> [1] \"こんにちは\""
   ]
  },
  {
   "cell_type": "code",
   "execution_count": null,
   "metadata": {},
   "outputs": [],
   "source": [
    "guess_encoding(charToRaw(x1))"
   ]
  },
  {
   "cell_type": "code",
   "execution_count": null,
   "metadata": {},
   "outputs": [],
   "source": [
    "parse_datetime(\"20200215\")"
   ]
  },
  {
   "cell_type": "code",
   "execution_count": null,
   "metadata": {},
   "outputs": [],
   "source": [
    "parse_datetime(\"20201009T2010\")"
   ]
  },
  {
   "cell_type": "code",
   "execution_count": null,
   "metadata": {},
   "outputs": [],
   "source": [
    "hoje <- \"2020/02/15\""
   ]
  },
  {
   "cell_type": "code",
   "execution_count": null,
   "metadata": {},
   "outputs": [],
   "source": [
    "parse_date(\"01/02/15\", \"%m/%d/%y\")\n",
    "#> [1] \"2015-01-02\"\n",
    "parse_date(\"01/02/15\", \"%d/%m/%y\")\n",
    "#> [1] \"2015-02-01\"\n",
    "parse_date(\"01/02/15\", \"%y/%m/%d\")\n",
    "#> [1] \"2001-02-15\""
   ]
  },
  {
   "cell_type": "code",
   "execution_count": null,
   "metadata": {},
   "outputs": [],
   "source": [
    "parse_date(\"1 janvier 2015\", \"%d %B %Y\", locale = locale(\"fr\"))\n",
    "#> [1] \"2015-01-01\""
   ]
  },
  {
   "cell_type": "markdown",
   "metadata": {},
   "source": [
    "What are the most important arguments to locale()?"
   ]
  },
  {
   "cell_type": "markdown",
   "metadata": {},
   "source": [
    "locale(date_names = \"en\", date_format = \"%AD\", time_format = \"%AT\",\n",
    "  decimal_mark = \".\", grouping_mark = \",\", tz = \"UTC\",\n",
    "  encoding = \"UTF-8\", asciify = FALSE)"
   ]
  },
  {
   "cell_type": "markdown",
   "metadata": {},
   "source": [
    "What happens if you try and set decimal_mark and grouping_mark to the same character? What happens to the default value of grouping_mark when you set decimal_mark to “,”? What happens to the default value of decimal_mark when you set the grouping_mark to “.”?"
   ]
  },
  {
   "cell_type": "code",
   "execution_count": null,
   "metadata": {},
   "outputs": [],
   "source": [
    "parse_datetime(\"2020,12,13\", locale = locale(decimal_mark = \",\", grouping_mark = \",\"))"
   ]
  },
  {
   "cell_type": "code",
   "execution_count": null,
   "metadata": {},
   "outputs": [],
   "source": [
    "parse_number(\"20.201,213\", locale = locale(decimal_mark = \",\"))"
   ]
  },
  {
   "cell_type": "code",
   "execution_count": null,
   "metadata": {},
   "outputs": [],
   "source": [
    "parse_number(\"2.020,1213\", locale = locale(grouping_mark = \".\"))"
   ]
  },
  {
   "cell_type": "markdown",
   "metadata": {},
   "source": [
    "I didn’t discuss the date_format and time_format options to locale(). What do they do? Construct an example that shows when they might be useful."
   ]
  },
  {
   "cell_type": "code",
   "execution_count": null,
   "metadata": {},
   "outputs": [],
   "source": [
    "#sei lá"
   ]
  },
  {
   "cell_type": "markdown",
   "metadata": {},
   "source": [
    "If you live outside the US, create a new locale object that encapsulates the settings for the types of file you read most commonly."
   ]
  },
  {
   "cell_type": "code",
   "execution_count": null,
   "metadata": {},
   "outputs": [],
   "source": [
    "parse_number(\"336.280.938-30\",\n",
    "            locale = locale(grouping_mark=\".\"))"
   ]
  },
  {
   "cell_type": "markdown",
   "metadata": {},
   "source": [
    "What’s the difference between read_csv() and read_csv2()?"
   ]
  },
  {
   "cell_type": "code",
   "execution_count": null,
   "metadata": {},
   "outputs": [],
   "source": [
    "#o readcsv usa \",\" como separador e o readcsv2 usa \";\" como separador"
   ]
  },
  {
   "cell_type": "markdown",
   "metadata": {},
   "source": [
    "What are the most common encodings used in Europe? What are the most common encodings used in Asia? Do some googling to find out."
   ]
  },
  {
   "cell_type": "code",
   "execution_count": null,
   "metadata": {},
   "outputs": [],
   "source": [
    "#UTF-8"
   ]
  },
  {
   "cell_type": "markdown",
   "metadata": {},
   "source": [
    "Generate the correct format string to parse each of the following dates and times"
   ]
  },
  {
   "cell_type": "code",
   "execution_count": null,
   "metadata": {},
   "outputs": [],
   "source": [
    "d1 <- \"January 1, 2010\"\n",
    "d2 <- \"2015-Mar-07\"\n",
    "d3 <- \"06-Jun-2017\"\n",
    "d4 <- c(\"August 19 (2015)\", \"July 1 (2015)\")\n",
    "d5 <- \"12/30/14\" # Dec 30, 2014\n",
    "t1 <- \"1705\"\n",
    "t2 <- \"11:15:10.12 PM\""
   ]
  },
  {
   "cell_type": "code",
   "execution_count": null,
   "metadata": {},
   "outputs": [],
   "source": [
    "parse_date(d1, \"%B %d, %Y\")"
   ]
  },
  {
   "cell_type": "code",
   "execution_count": null,
   "metadata": {},
   "outputs": [],
   "source": [
    "parse_date(d2, \"%Y-%b-%d\")"
   ]
  },
  {
   "cell_type": "code",
   "execution_count": null,
   "metadata": {},
   "outputs": [],
   "source": [
    "parse_date(d3, \"%d-%b-%Y\")"
   ]
  },
  {
   "cell_type": "code",
   "execution_count": null,
   "metadata": {},
   "outputs": [],
   "source": []
  },
  {
   "cell_type": "code",
   "execution_count": null,
   "metadata": {},
   "outputs": [],
   "source": []
  }
 ],
 "metadata": {
  "kernelspec": {
   "display_name": "R",
   "language": "R",
   "name": "ir"
  },
  "language_info": {
   "codemirror_mode": "r",
   "file_extension": ".r",
   "mimetype": "text/x-r-source",
   "name": "R",
   "pygments_lexer": "r",
   "version": "3.6.1"
  }
 },
 "nbformat": 4,
 "nbformat_minor": 4
}
