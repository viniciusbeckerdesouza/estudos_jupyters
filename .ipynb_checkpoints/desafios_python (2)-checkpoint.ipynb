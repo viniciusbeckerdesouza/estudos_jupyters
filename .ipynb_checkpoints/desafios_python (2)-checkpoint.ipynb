{
 "cells": [
  {
   "cell_type": "code",
   "execution_count": null,
   "metadata": {},
   "outputs": [],
   "source": [
    "# Transformando DNA em RNA\n",
    "\n",
    "sequences = \"tatgtttcc#tataggtctg#ctattcaatg#ccgatgtatc#tttcgaac\""
   ]
  },
  {
   "cell_type": "code",
   "execution_count": null,
   "metadata": {},
   "outputs": [],
   "source": [
    "## Dividindo a string\n",
    "\n",
    "dna_list = sequences.split(\"#\")\n",
    "print(dna_list)"
   ]
  },
  {
   "cell_type": "code",
   "execution_count": null,
   "metadata": {},
   "outputs": [],
   "source": [
    "## Convertendo DNA em RNA\n",
    "\n",
    "for dna in dna_list:\n",
    "    rna = dna.replace(\"t\", \"u\")\n",
    "    print(f\"DNA: {dna} -> RNA: {rna}\")"
   ]
  },
  {
   "cell_type": "code",
   "execution_count": null,
   "metadata": {},
   "outputs": [],
   "source": [
    "## Função DNA -> RNA\n",
    "\n",
    "def dna_to_rna(dna):\n",
    "    rna = dna.replace(\"t\", \"u\")\n",
    "    print(f\"DNA: {dna} -> RNA: {rna}\")\n",
    "\n",
    "dna_to_rna(\"tcgtcgattgct\")"
   ]
  },
  {
   "cell_type": "code",
   "execution_count": null,
   "metadata": {},
   "outputs": [],
   "source": [
    "for dna in dna_list:\n",
    "    dna_to_rna(dna)"
   ]
  },
  {
   "cell_type": "code",
   "execution_count": null,
   "metadata": {},
   "outputs": [],
   "source": [
    "# Controle de estoque\n",
    "\n",
    "item_list = [\"webcam\", \"mouse\", \"keybord\",\"pc\"]\n",
    "stock_list = [74, 78, 80, 57]\n",
    "\n",
    "stock_dict = {}"
   ]
  },
  {
   "cell_type": "code",
   "execution_count": null,
   "metadata": {},
   "outputs": [],
   "source": [
    "## Registrando saídas"
   ]
  },
  {
   "cell_type": "code",
   "execution_count": null,
   "metadata": {},
   "outputs": [],
   "source": [
    "## Atualizando estoque"
   ]
  },
  {
   "cell_type": "code",
   "execution_count": null,
   "metadata": {},
   "outputs": [],
   "source": [
    "# Valor das ações\n",
    "\n",
    "apple_stock = [298.18, 304.18, 289.23, 295.17, 300.89]"
   ]
  },
  {
   "cell_type": "code",
   "execution_count": null,
   "metadata": {},
   "outputs": [],
   "source": [
    "## Ordenano os valores"
   ]
  },
  {
   "cell_type": "code",
   "execution_count": null,
   "metadata": {},
   "outputs": [],
   "source": [
    "## Atualizando os valores"
   ]
  },
  {
   "cell_type": "code",
   "execution_count": null,
   "metadata": {},
   "outputs": [],
   "source": [
    "## Calculando lucros e perdas"
   ]
  },
  {
   "cell_type": "code",
   "execution_count": null,
   "metadata": {},
   "outputs": [],
   "source": []
  }
 ],
 "metadata": {
  "kernelspec": {
   "display_name": "Python 3",
   "language": "python",
   "name": "python3"
  },
  "language_info": {
   "codemirror_mode": {
    "name": "ipython",
    "version": 3
   },
   "file_extension": ".py",
   "mimetype": "text/x-python",
   "name": "python",
   "nbconvert_exporter": "python",
   "pygments_lexer": "ipython3",
   "version": "3.7.1"
  }
 },
 "nbformat": 4,
 "nbformat_minor": 4
}
